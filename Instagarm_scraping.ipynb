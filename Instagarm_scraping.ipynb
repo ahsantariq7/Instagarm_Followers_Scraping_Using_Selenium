{
 "cells": [
  {
   "cell_type": "code",
   "execution_count": 1,
   "id": "33f0c988",
   "metadata": {},
   "outputs": [],
   "source": [
    "from selenium import webdriver\n",
    "from webdriver_manager.chrome import ChromeDriverManager\n",
    "from selenium.webdriver.common.by import By\n",
    "import time"
   ]
  },
  {
   "cell_type": "code",
   "execution_count": 2,
   "id": "e0bfaba6",
   "metadata": {},
   "outputs": [
    {
     "name": "stderr",
     "output_type": "stream",
     "text": [
      "[WDM] - Downloading: 100%|█████████████████████████████████████████████████████████| 6.81M/6.81M [00:09<00:00, 759kB/s]\n",
      "C:\\Users\\ahsan\\AppData\\Local\\Temp\\ipykernel_11656\\687432178.py:1: DeprecationWarning: executable_path has been deprecated, please pass in a Service object\n",
      "  driver=webdriver.Chrome(ChromeDriverManager().install())\n"
     ]
    }
   ],
   "source": [
    "driver=webdriver.Chrome(ChromeDriverManager().install())\n",
    "driver.get('https://www.instagram.com/accounts/login/')\n",
    "time.sleep(5)"
   ]
  },
  {
   "cell_type": "code",
   "execution_count": 5,
   "id": "ee38fd5e",
   "metadata": {},
   "outputs": [],
   "source": [
    "user_input=driver.find_element(By.NAME,'username')\n",
    "pass_input=driver.find_element(By.NAME,'password')\n",
    "user_input.send_keys('engr_ahsan_tariq_0724')\n",
    "pass_input.send_keys('Ahsan070707')\n",
    "\n",
    "login_button=driver.find_element(By.XPATH,'//*[@id=\"loginForm\"]/div/div[3]/button')\n",
    "login_button.click()\n",
    "\n",
    "time.sleep(5)"
   ]
  },
  {
   "cell_type": "code",
   "execution_count": 6,
   "id": "520193d2",
   "metadata": {},
   "outputs": [],
   "source": [
    "accounts=['engr_ahsan_tariq_0724']\n",
    "\n",
    "for account in accounts:\n",
    "    driver.get(f\"https://www.instagram.com/{account}/followers/\")\n",
    "    \n",
    "    time.sleep(5)"
   ]
  },
  {
   "cell_type": "code",
   "execution_count": 9,
   "id": "ea0a8fe8",
   "metadata": {},
   "outputs": [],
   "source": [
    "a=driver.find_elements(By.CLASS_NAME,'x1i10hfl.xjbqb8w.x6umtig.x1b1mbwd.xaqea5y.xav7gou.x9f619.x1ypdohk.xt0psk2.xe8uvvx.xdj266r.x11i5rnm.xat24cr.x1mh8g0r.xexx8yu.x4uap5.x18d9i69.xkhd6sd.x16tdsg8.x1hl2dhg.xggy1nq.x1a2a7pz.notranslate._a6hd')"
   ]
  },
  {
   "cell_type": "code",
   "execution_count": 10,
   "id": "56d8c772",
   "metadata": {},
   "outputs": [
    {
     "name": "stdout",
     "output_type": "stream",
     "text": [
      "romibwp\n",
      "ali_abilou\n",
      "alone_0007__\n",
      "itz_hmna\n",
      "ramashish__rawan\n",
      "mub_een24\n",
      "msafwanhabib\n",
      "wajid.meo.921\n",
      "team_error_official1\n",
      "muzamil_hassan_magsi_5\n",
      "engineer.mohsin313\n",
      "imran_vibess\n",
      "zai_na_b141\n",
      "saranori4\n",
      "iam_sameerkhan09\n",
      "muhammad8525imran\n",
      "abdul_hanan_16\n",
      "lighthousebwp\n",
      "muhammadirtazaasghar\n",
      "rhylbrwkhy\n",
      "mubashirali0707\n",
      "melinda__paniagua\n",
      "haseeb_ahmed_awan\n",
      "mrkhanmobile\n",
      "muskanbeautystore\n",
      "aayatwrites1\n",
      "rizvitom786\n",
      "___abdulmoiz___\n",
      "ebaad_rajpoot\n",
      "aspire_squad_\n",
      "khadizasamina\n",
      "ali_hamza_arain\n",
      "ericstefan77\n",
      "ahsanrazarao_\n",
      "ahsan_choreography\n",
      "motivesnal_77\n",
      "0346_0618209\n",
      "tahseen_yousaf_zai\n",
      "saqlain.ali.raza\n",
      "huzaifa_sahib\n",
      "iubinsider\n",
      "saraikistan_area_posting\n",
      "cadd_cam_tutorials\n",
      "iub_ki_awaam69\n",
      "bodym_assagehomeservice\n",
      "saad.maya.777\n",
      "appointment_with_0724_bk_food\n",
      "r_haris_rajpoot\n",
      "attaullah.mughal.908\n",
      "life_inside_ot\n",
      "ch_umarwaheed\n",
      "zeeshanshani9298\n",
      "awais_wes1\n",
      "arishakhan9812\n",
      "mhw181623\n",
      "ahteshambhoma\n",
      "danialrao868\n",
      "miankamran604\n",
      "universityadmissionguidance\n",
      "uzam_ch\n",
      "mr_iubian\n",
      "asim.zubair.98478\n",
      "msharjeel050\n",
      "_fahad_.here\n",
      "malikadnan78678_\n",
      "asif659278\n",
      "mohsin_2101\n",
      "1ninin1\n",
      "ukasha7343\n",
      "waleednazar1\n",
      "butt_hanzala\n",
      "its_aneeq786\n",
      "abdul_quddos1\n",
      "hammad_456_1\n",
      "ahmadhassan2290\n",
      "call_me__malik6\n",
      "hamza_maqsood__\n",
      "ammarhashmisab\n",
      "choudhary__911\n",
      "haroonatieeq7\n",
      "muhammad581umar\n",
      "mudassarmahbboob\n",
      "malikdani.dani\n",
      "manzoor0507\n",
      "be_like_waqas\n",
      "musman00109\n",
      "qaisar6632\n",
      "real_ahsan_official\n",
      "wajidrehman9852\n",
      "saood952\n",
      "mr.ahtsham4\n",
      "abdulmubeen9090\n",
      "huz.aifa74\n",
      "hiamameer\n",
      "hananislam1524\n",
      "rana.abdullah.raj\n",
      "hamza._.062\n",
      "yasirtoori45\n",
      "itsabdul725\n",
      "az5529737\n",
      "muazam_sheikh_\n",
      "waqas_jutt_364\n",
      "umer_masoom_62\n",
      "_jabbar_jutt_\n",
      "haris_mayo1\n",
      "abdullahqasim90\n",
      "ali2617hussain\n",
      "talha_falak07\n"
     ]
    }
   ],
   "source": [
    "for i in a:\n",
    "    print(i.text)"
   ]
  },
  {
   "cell_type": "code",
   "execution_count": 11,
   "id": "ea845aee",
   "metadata": {},
   "outputs": [
    {
     "data": {
      "text/plain": [
       "108"
      ]
     },
     "execution_count": 11,
     "metadata": {},
     "output_type": "execute_result"
    }
   ],
   "source": [
    "len(a)"
   ]
  },
  {
   "cell_type": "code",
   "execution_count": null,
   "id": "bbf7794e",
   "metadata": {},
   "outputs": [],
   "source": [
    "foll=[]\n",
    "for i in a:\n",
    "    "
   ]
  }
 ],
 "metadata": {
  "kernelspec": {
   "display_name": "Python 3 (ipykernel)",
   "language": "python",
   "name": "python3"
  },
  "language_info": {
   "codemirror_mode": {
    "name": "ipython",
    "version": 3
   },
   "file_extension": ".py",
   "mimetype": "text/x-python",
   "name": "python",
   "nbconvert_exporter": "python",
   "pygments_lexer": "ipython3",
   "version": "3.9.16"
  }
 },
 "nbformat": 4,
 "nbformat_minor": 5
}
